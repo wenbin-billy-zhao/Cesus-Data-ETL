{
 "cells": [
  {
   "cell_type": "code",
   "execution_count": 1,
   "metadata": {},
   "outputs": [],
   "source": [
    "import pandas as pd\n",
    "import numpy as nb\n",
    "import os as os"
   ]
  },
  {
   "cell_type": "code",
   "execution_count": 2,
   "metadata": {},
   "outputs": [
    {
     "data": {
      "text/plain": [
       "['US-Census-2011-Data.csv',\n",
       " 'US-Census-2012-Data.csv',\n",
       " 'US-Census-2013-Data.csv',\n",
       " 'US-Census-2014-Data.csv',\n",
       " 'US-Census-2015-Data.csv',\n",
       " 'US-Census-2016-Data.csv',\n",
       " 'US-Census-2017-Data.csv']"
      ]
     },
     "execution_count": 2,
     "metadata": {},
     "output_type": "execute_result"
    }
   ],
   "source": [
    "from os import walk\n",
    "\n",
    "mypath = 'data-source/output/'\n",
    "\n",
    "fileList = []\n",
    "for (dirpath, dirnames, filenames) in walk(mypath):\n",
    "    fileList.extend(filenames)\n",
    "    break\n",
    "    \n",
    "fileList"
   ]
  },
  {
   "cell_type": "code",
   "execution_count": 3,
   "metadata": {},
   "outputs": [
    {
     "name": "stdout",
     "output_type": "stream",
     "text": [
      "US-Census-2011-Data.csv\n",
      "US-Census-2012-Data.csv\n",
      "US-Census-2013-Data.csv\n",
      "US-Census-2014-Data.csv\n",
      "US-Census-2015-Data.csv\n",
      "US-Census-2016-Data.csv\n",
      "US-Census-2017-Data.csv\n"
     ]
    }
   ],
   "source": [
    "for f in fileList:\n",
    "    print(f)"
   ]
  },
  {
   "cell_type": "code",
   "execution_count": 7,
   "metadata": {},
   "outputs": [],
   "source": [
    "combined_csv = pd.concat([pd.read_csv(mypath + f) for f in fileList] )\n",
    "\n",
    "combined_csv.to_csv( \"combined_csv.csv\", index=False )"
   ]
  },
  {
   "cell_type": "code",
   "execution_count": null,
   "metadata": {},
   "outputs": [],
   "source": [
    "\n"
   ]
  }
 ],
 "metadata": {
  "kernelspec": {
   "display_name": "Python(PythonData)",
   "language": "python",
   "name": "pythondata"
  },
  "language_info": {
   "codemirror_mode": {
    "name": "ipython",
    "version": 3
   },
   "file_extension": ".py",
   "mimetype": "text/x-python",
   "name": "python",
   "nbconvert_exporter": "python",
   "pygments_lexer": "ipython3",
   "version": "3.6.7"
  }
 },
 "nbformat": 4,
 "nbformat_minor": 2
}
